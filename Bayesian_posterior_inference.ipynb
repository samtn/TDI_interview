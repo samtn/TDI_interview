{
 "cells": [
  {
   "cell_type": "code",
   "execution_count": 13,
   "metadata": {
    "collapsed": true
   },
   "outputs": [],
   "source": [
    "%matplotlib inline\n",
    "import matplotlib\n",
    "import seaborn as sns\n",
    "import numpy as np\n",
    "import matplotlib.pylab as plt\n",
    "import pandas as pd\n",
    "from scipy.stats import beta\n",
    "\n",
    "matplotlib.rcParams['savefig.dpi'] = 144"
   ]
  },
  {
   "cell_type": "markdown",
   "metadata": {},
   "source": [
    "# What is Baysian data analysis?\n",
    "\n",
    "- It is when you use **probability** to represent **uncertainty** in **all parts** of a statistical model.\n",
    "- A flexible extension of maximum likelihood.\n",
    "- Potentially the most **information-efficient** method to fit a statistical model (also computationally intensive method).\n",
    "- A method for figuring out **unknowns** that requires three things:\n",
    "    - Data\n",
    "    - A generative model\n",
    "    - Priors. What information the model has before seeing the data."
   ]
  },
  {
   "cell_type": "markdown",
   "metadata": {},
   "source": [
    "## What is a generative model?\n",
    "\n",
    "Any kind of computer program, mathematical expression or set of rules that you can feed fixed parameter values and generates simulated data. A typical example of generative model is probability distributions like the Normal distribution that you can simulate data. A generative model is great if you know what parameter values you want and you are interested in finding out how much the data vary, given those parameters.  \n",
    "\n",
    "But often we are in the complete opposite situation. We know what the data is and it's not uncertain and we are interested in set of reasonable parameter values that could have given rise to this data. In other words we want to work our way backwards from the data the we know to learn the parameters that we don't know. This is the case that Baysian Inference becomes useful.   \n",
    "\n",
    "![generative_models](images/generative_models.jpg)"
   ]
  },
  {
   "cell_type": "markdown",
   "metadata": {},
   "source": [
    "## A Motivating Example: Subscription rate for Chocolate Therapy Inc.\n",
    "\n",
    "<img src=\"images/Chocolate.jpg\",width=300>\n",
    "\n",
    "Chocolate Therapy Inc is a our company that makes money by selling chocolate subscriptions. Customers sign up for a year of Chocolate Therapy and get weekly chocolates delivered to their address. So far we have been active in D.C. area but we are planning to extend our service to MD and VA as well. How should we enter these new market?\n",
    "\n",
    "Our CEO, Coco McChocface, came up with a plan and put together a colorful brochure along side with chocolate samples that advertises our subscription plan. We have already tried this method on 16 people from MD and VA and 6/16 subscribed. \n",
    "\n",
    "Now we would like to assess our method of advertisement. What should we expect the subscription rate to be if we start sending the brochures in large scale? We can start by calculating the rate from our data 6/16 (38%). However given the small sample size, we would like to know how accurate this subscription rate is.\n",
    "\n",
    "In summary we would like to know what's a good guess for the percentage of signups and how uncertain is this percentage?"
   ]
  },
  {
   "cell_type": "code",
   "execution_count": 32,
   "metadata": {
    "collapsed": false
   },
   "outputs": [
    {
     "data": {
      "text/plain": [
       "<matplotlib.axes._subplots.AxesSubplot at 0x7f3c5e85ffd0>"
      ]
     },
     "execution_count": 32,
     "metadata": {},
     "output_type": "execute_result"
    },
    {
     "data": {
      "image/png": "[encoded data removed]",
      "text/plain": [
       "<matplotlib.figure.Figure at 0x7f3c5e9ce310>"
      ]
     },
     "metadata": {},
     "output_type": "display_data"
    }
   ],
   "source": [
    "# Number of random draws from the prior\n",
    "n_draw = 10000\n",
    "\n",
    "# Defining and drawing from the prior distribution \n",
    "prior_rate = pd.Series(np.random.uniform(0, 1, size = n_draw)) \n",
    "#prior_rate = pd.Series(np.random.beta(2, 9, size = n_draw))\n",
    "\n",
    "# It's always good to eyeball the prior to make sure it looks ok.\n",
    "prior_rate.hist()"
   ]
  },
  {
   "cell_type": "code",
   "execution_count": 33,
   "metadata": {
    "collapsed": false
   },
   "outputs": [
    {
     "name": "stdout",
     "output_type": "stream",
     "text": [
      " Number of draws left: 653\n",
      " Posterior mean: 0.385\n",
      " Posterior median: 0.380\n",
      " Posterior 95% quantile interval: 0.189-0.607\n"
     ]
    },
    {
     "data": {
      "image/png": "[encoded data removed]",
      "text/plain": [
       "<matplotlib.figure.Figure at 0x7f3c5e7ad390>"
      ]
     },
     "metadata": {},
     "output_type": "display_data"
    }
   ],
   "source": [
    "# Defining the generative model\n",
    "def gen_model(prob):\n",
    "    return(np.random.binomial(16, prob))\n",
    "\n",
    "#  the generative model\n",
    "subscribers = []\n",
    "\n",
    "# Simulating the data\n",
    "for p in prior_rate:\n",
    "    subscribers.append(gen_model(p))\n",
    "                    \n",
    "# Observed data\n",
    "observed_data = 6\n",
    "\n",
    "# Here you filter off all draws that do not match the data.\n",
    "post_rate = prior_rate[list(map(lambda x: x == observed_data, subscribers))]\n",
    "\n",
    "post_rate.hist() # Eyeball the posterior\n",
    "\n",
    "# See that we got enought draws left after the filtering. \n",
    "# There are no rules here, but you probably want to aim for >1000 draws.\n",
    "\n",
    "# Now you can summarize the posterior, where a common summary is to take the mean or the median posterior, \n",
    "# and perhaps a 95% quantile interval.\n",
    "\n",
    "print(' Number of draws left: %d\\n Posterior mean: %.3f\\n Posterior median: %.3f\\n Posterior 95%% quantile interval: %.3f-%.3f' % \n",
    "      (len(post_rate), post_rate.mean(), post_rate.median(), post_rate.quantile(.025), post_rate.quantile(.975)))"
   ]
  },
  {
   "cell_type": "code",
   "execution_count": 31,
   "metadata": {
    "collapsed": false
   },
   "outputs": [],
   "source": [
    "#x = np.arange(0, 1.01, 0.01)\n",
    "\n",
    "#pd.DataFrame({'B(10, 10)' : beta.pdf(x, 10, 10),\n",
    "#                   'B(5, 2)' : beta.pdf(x, 5, 2),\n",
    "#                   'B(2, 2)' : beta.pdf(x, 2, 2),\n",
    "#                   'B(1, 1)' : beta.pdf(x, 1, 1),\n",
    "#                   'B(.1, .5)' : beta.pdf(x, .1, .5)}, index = x).plot()"
   ]
  },
  {
   "cell_type": "markdown",
   "metadata": {},
   "source": [
    "## What have we done so far?\n",
    "\n",
    "- We have specified prior (belief) information P($\\Theta$).\n",
    "- A generative model that provides us with P(D | $\\Theta$) also known as likelihood.\n",
    "- And have calculated the probability of different parameter values P($\\Theta$ | D) known as posterior or our new belief.\n",
    "\n",
    "$$P(\\Theta | D) = \\frac {P(\\Theta) \\times P(D | \\Theta)} {\\sum P(\\Theta) \\times P(D | \\Theta)}$$\n",
    "\n",
    "- We used a binomial model with one parameter, but the general method works for **any** generative model and with **any** number of parameters.\n",
    "- In case of using a uniform prior, the result is also known as **Maximum Likelihood Estimate (MLE)**.\n",
    "- If the posterior distributions are in the same family as the prior probability, then they are called **conjugate distributions**.\n",
    "- A better prior knowledge will result in a sharper posterior distribution and a better estimation of **Maximum A Posteriori (MAP)**. "
   ]
  },
  {
   "cell_type": "markdown",
   "metadata": {},
   "source": [
    "## Final remarks\n",
    "\n",
    "We can use our prior knowledge about a problem (e.g. age is greater zero, temperature is greater than -273 and ...) and build it in, then we can get sharper estimates with fewer measurments. However we also want to be able to be surprised by our data. Inaccurate beliefs can makeit hard or impossible to learn.\n",
    "\n",
    "\"It ain't what you don't know that gets you into trouble. It's what you know for sure that just ain't so.\"\n",
    "\n",
    "Mark Twain\n"
   ]
  },
  {
   "cell_type": "code",
   "execution_count": null,
   "metadata": {
    "collapsed": true
   },
   "outputs": [],
   "source": []
  }
 ],
 "metadata": {
  "kernelspec": {
   "display_name": "Python 2",
   "language": "python",
   "name": "python2"
  },
  "language_info": {
   "codemirror_mode": {
    "name": "ipython",
    "version": 2
   },
   "file_extension": ".py",
   "mimetype": "text/x-python",
   "name": "python",
   "nbconvert_exporter": "python",
   "pygments_lexer": "ipython2",
   "version": "2.7.13"
  }
 },
 "nbformat": 4,
 "nbformat_minor": 2
}
